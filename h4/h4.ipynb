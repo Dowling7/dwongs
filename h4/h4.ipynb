{
 "cells": [
  {
   "cell_type": "code",
   "execution_count": 11,
   "id": "622849b8",
   "metadata": {},
   "outputs": [],
   "source": [
    "import uproot3 as uproot\n",
    "import numpy as np\n",
    "import awkward as ak\n",
    "import matplotlib.pyplot as plt\n",
    "import os,sys\n",
    "import math\n",
    "from sklearn.cluster import Birch#clustering\n",
    "from scipy import spatial\n",
    "import scipy.stats as sp"
   ]
  },
  {
   "cell_type": "markdown",
   "id": "f846ecc5",
   "metadata": {},
   "source": [
    "For analysis at h4, we need to\n",
    "1. Build a sorter, find out index of event with detID between 41-46\n",
    "2. get their position\n",
    "3. get info from st23, do linear extrapolation to h4, muon approximately match, pion scatter. <br>\n",
    "st23tracklet_py_st3<br>\n",
    "st23tracklet_pz_st3<br>\n",
    "st23tracklet_px_st3<br>\n",
    "\n",
    "Double_t track_x_CAL = track_x_st3 + (track_px_st3 / track_pz_st3) * (1930. - track_z_st3);<br>\n",
    "Double_t track_y_CAL = track_y_st3 + (track_py_st3 / track_pz_st3) * (1930. - track_z_st3);<br>\n",
    "st23tracklet_x_st3<br>\n",
    "st23tracklet_y_st3<br>\n",
    "st23tracklet_z_st3<br>"
   ]
  },
  {
   "cell_type": "markdown",
   "id": "f932a056",
   "metadata": {},
   "source": [
    "For most particles, their hits ID between 41, 46 record are more tham recorded hits on h4. Since hit_pos only provided with detID, i will use detID method to find out evt that has hits on h4"
   ]
  },
  {
   "cell_type": "code",
   "execution_count": 44,
   "id": "54a867fa",
   "metadata": {},
   "outputs": [],
   "source": [
    "#--------------------------------------------------------------------------------------------------------------------------------------------\n",
    "def getData(fname=\"\", procName=\"Events\"):\n",
    "    kn_dict = uproot.open(fname)[\"Events\"].arrays()\n",
    "    kn_dict_ak1 = {name.decode(): ak.from_awkward0(array) for name, array in kn_dict.items()}\n",
    "    kn_events = ak.zip({\"Electrons\":ak.zip({\n",
    "                                            \"ge\":      kn_dict_ak1[\"ge\"],\n",
    "                                            \"gvx\":      kn_dict_ak1[\"gvx\"],\n",
    "                                            \"gvy\":      kn_dict_ak1[\"gvy\"],\n",
    "                                            \"gvz\":      kn_dict_ak1[\"gvz\"],\n",
    "                                            \"gpx\":      kn_dict_ak1[\"gpx\"],\n",
    "                                            \"gpy\":      kn_dict_ak1[\"gpy\"],\n",
    "                                            \"gpz\":      kn_dict_ak1[\"gpz\"],\n",
    "                                        }),\n",
    "                        \"Hits\":ak.zip({\n",
    "                                      \"detID\":   kn_dict_ak1[\"hit_detID\"],#detector ID for each hit, look for 41-46\n",
    "                                      \"edep\":    kn_dict_ak1[\"hit_edep\"],\n",
    "                                      \"elmID\":   kn_dict_ak1[\"hit_elmID\"],#EMCal cell ID\n",
    "                                      \"hit_pos\":  kn_dict_ak1[\"hit_pos\"],#then find the position of hits(use index) with ID bet41-46\n",
    "                                        }),\n",
    "                        \"track\":ak.zip({\n",
    "                                      \"x\":   kn_dict_ak1[\"track_x_CAL\"],\n",
    "                                      \"y\":    kn_dict_ak1[\"track_y_CAL\"],\n",
    "                                      \"ID\":    kn_dict_ak1[\"eventID\"],\n",
    "                                      \"pz\":    kn_dict_ak1[\"track_pz_st1\"],\n",
    "                                        }),\n",
    "                        \"st23\":ak.zip({\n",
    "                                      \"ntrack23\":   kn_dict_ak1[\"n_st23tracklets\"],\n",
    "                                      \"px\":   kn_dict_ak1[\"st23tracklet_px_st3\"],\n",
    "                                      \"py\":   kn_dict_ak1[\"st23tracklet_py_st3\"],\n",
    "                                      \"pz\":   kn_dict_ak1[\"st23tracklet_pz_st3\"],\n",
    "                                      \"x\":   kn_dict_ak1[\"st23tracklet_x_st3\"],\n",
    "                                      \"y\":   kn_dict_ak1[\"st23tracklet_y_st3\"],\n",
    "                                      \"z\":   kn_dict_ak1[\"st23tracklet_z_st3\"],\n",
    "                                        }),\n",
    "                       }, depth_limit=1)\n",
    "    return kn_events"
   ]
  },
  {
   "cell_type": "code",
   "execution_count": 264,
   "id": "6386109e",
   "metadata": {},
   "outputs": [],
   "source": [
    "def h4_sort(raw_ID, raw_pos):#hard coded for detID 41-46\n",
    "    indices = []\n",
    "    values = []\n",
    "    h4_pos = []\n",
    "    for index, value in enumerate(raw_ID):\n",
    "        if 41 <= value <= 46:\n",
    "            indices.append(index)\n",
    "            values.append(value)\n",
    "            h4_pos.append(raw_pos[index])\n",
    "    return indices, values, h4_pos"
   ]
  },
  {
   "cell_type": "code",
   "execution_count": 265,
   "id": "b4584adb",
   "metadata": {},
   "outputs": [],
   "source": [
    "def extrpl_h4(x,y,z,px,py,pz,ID):#41-44 are x. 45, 46 are y.\n",
    "    IDpos={41: 2130.27, 42: 2146.45, 43:2200.44 , 44:2216.62 , 45:2251.71 , 46: 2234.29}\n",
    "    h4_x = x+(px/pz)*(IDpos[ID]-z)\n",
    "    h4_y = y+(py/pz)*(IDpos[ID]-z)\n",
    "    return h4_x, h4_y"
   ]
  },
  {
   "cell_type": "code",
   "execution_count": 278,
   "id": "9075bf26",
   "metadata": {},
   "outputs": [],
   "source": [
    "os.chdir(\"/Users/wongdowling/Desktop/DQ_Dowling/ntuple_1000\")\n",
    "file=\"electron_520_1000eve.root\"\n",
    "dq_events = getData(file)\n",
    "ID = dq_events[\"Hits\"].detID.tolist()\n",
    "raw_pos = dq_events[\"Hits\"].hit_pos.tolist()\n",
    "st3_x= dq_events[\"st23\"].x.tolist()#st3 may catch multiple track or no track\n",
    "st3_y= dq_events[\"st23\"].y.tolist()\n",
    "st3_z= dq_events[\"st23\"].z.tolist()\n",
    "st3_px= dq_events[\"st23\"].px.tolist()\n",
    "st3_py= dq_events[\"st23\"].py.tolist()\n",
    "st3_pz= dq_events[\"st23\"].pz.tolist()\n",
    "\n",
    "pos_3D=[]#event ->h4 hit ->each track\n",
    "hit_pos=[]\n",
    "\n",
    "for i in range(len(ID)):#in level of each event\n",
    "    indices, values, pos_1D=h4_sort(ID[i], raw_pos[i])\n",
    "    hit_pos.append(pos_1D)\n",
    "    x=st3_x[i]\n",
    "    y=st3_y[i]\n",
    "    z=st3_z[i]\n",
    "    px=st3_px[i]\n",
    "    py=st3_py[i]\n",
    "    pz=st3_pz[i]\n",
    "    pos_2D=[]\n",
    "    for item in values:\n",
    "        pos=[]\n",
    "        for j in range(len(x)):\n",
    "            pos.append(extrpl_h4(x[j], y[j], z[j], px[j], py[j], pz[j], item))\n",
    "        pos_2D.append(pos)\n",
    "    pos_3D.append(pos_2D)\n",
    "\n",
    "    "
   ]
  },
  {
   "cell_type": "code",
   "execution_count": 279,
   "id": "0bf4f328",
   "metadata": {},
   "outputs": [
    {
     "data": {
      "text/plain": [
       "0"
      ]
     },
     "execution_count": 279,
     "metadata": {},
     "output_type": "execute_result"
    }
   ],
   "source": [
    "len(hit_pos[12])"
   ]
  },
  {
   "cell_type": "code",
   "execution_count": 281,
   "id": "2dd6ba14",
   "metadata": {},
   "outputs": [
    {
     "name": "stdout",
     "output_type": "stream",
     "text": [
      "[3.9360644817352295, 8.181635856628418]\n",
      "[3.071784496307373, 9.688541412353516]\n",
      "[-3.7286477088928223, -0.3143143653869629]\n",
      "[8.11592960357666, 20.32457733154297, 6.556115627288818]\n",
      "[]\n",
      "[]\n",
      "[0.5874420404434204, -22.52470588684082]\n",
      "[11.169495582580566, 3.70550799369812, 51.16697692871094]\n",
      "[]\n",
      "[]\n",
      "[12.791733741760254, 20.955698013305664]\n",
      "[-34.24217987060547, -25.557456970214844]\n",
      "[]\n",
      "[-1.9390957355499268, 33.11975860595703]\n",
      "[]\n",
      "[-1.8209927082061768, -20.765073776245117]\n",
      "[3.9710750579833984, 9.896692276000977, 16.449745178222656]\n",
      "[-10.129376411437988, -15.220988273620605, 6.1236114501953125]\n",
      "[9.551346778869629, -6.060884475708008]\n",
      "[-0.7344173192977905, -9.765981674194336]\n",
      "[3.264235496520996, -51.20107650756836]\n",
      "[6.811129570007324, 47.57767105102539, 6.520510196685791, 47.82097244262695]\n",
      "[]\n",
      "[11.260603904724121, 12.357321739196777]\n",
      "[6.376445770263672, -12.732553482055664, 6.328092098236084]\n",
      "[]\n",
      "[9.897176742553711, 39.052249908447266]\n",
      "[-4.018930912017822, -60.83573532104492, -3.5057177543640137]\n",
      "[-26.60627555847168, -42.507080078125, -26.57227325439453, -42.42414855957031]\n",
      "[]\n",
      "[-9.21026611328125, -36.61738586425781, -36.13812255859375, -9.295607566833496]\n",
      "[11.522789001464844, 18.43114471435547]\n",
      "[4.6234822273254395, 0.8750615119934082]\n",
      "[2.633453369140625, 5.918890476226807]\n",
      "[6.919269561767578, 14.08933162689209, 13.992753028869629, 18.365869522094727, 19.3648738861084, 6.46657657623291]\n",
      "[-11.16759204864502, 1.2980856895446777]\n",
      "[]\n",
      "[-7.246730327606201, 8.111140251159668]\n",
      "[-7.674190044403076, -5.0170183181762695, 23.09859848022461]\n",
      "[1.1981593370437622, 102.93289184570312]\n",
      "[14.471795082092285, 31.436317443847656]\n",
      "[5.653060436248779, 9.96251106262207]\n",
      "[13.376041412353516, 10.211663246154785]\n",
      "[-3.1263937950134277, -14.920994758605957]\n",
      "[5.764437198638916, 16.44345474243164]\n",
      "[0.8119092583656311, 6.206791877746582, 3.1908934116363525, 6.374716758728027, 0.5707362294197083]\n",
      "[]\n",
      "[-4.048588275909424, -0.7643725872039795]\n",
      "[1.6268364191055298, 6.664060592651367, -3.9064290523529053]\n",
      "[15.996761322021484, 20.266883850097656]\n",
      "[-13.535117149353027, 10.936788558959961]\n",
      "[-8.322144508361816, -1.2245615720748901]\n",
      "[0.013729359023272991, 6.813589096069336]\n",
      "[-4.0281243324279785, 3.0854320526123047]\n",
      "[17.539358139038086, 36.75869369506836, 36.89267349243164, 17.50341796875]\n",
      "[-10.108174324035645, -42.43617248535156]\n",
      "[-5.646234512329102, -0.36883917450904846]\n",
      "[4.714698791503906, -15.726374626159668]\n",
      "[14.506750106811523, 20.578296661376953, 8.404170036315918]\n",
      "[7.5742058753967285, 15.552009582519531, -15.924798965454102]\n",
      "[-4.539607524871826, 29.058931350708008, 29.172773361206055, -5.031903266906738]\n",
      "[-3.254565477371216, -1.461087942123413]\n",
      "[2.4385225772857666, 2.539104461669922]\n",
      "[9.450020790100098, 22.756465911865234, -10.950704574584961]\n",
      "[]\n",
      "[15.574786186218262, 20.717594146728516]\n"
     ]
    }
   ],
   "source": [
    "N=0\n",
    "for item in st3_x:\n",
    "    if len(item)!=1:\n",
    "        N+=1\n",
    "        print(item)\n",
    "        "
   ]
  },
  {
   "cell_type": "code",
   "execution_count": 282,
   "id": "28faaa64",
   "metadata": {},
   "outputs": [
    {
     "data": {
      "text/plain": [
       "66"
      ]
     },
     "execution_count": 282,
     "metadata": {},
     "output_type": "execute_result"
    }
   ],
   "source": [
    "N"
   ]
  },
  {
   "cell_type": "code",
   "execution_count": null,
   "id": "8ac6be70",
   "metadata": {},
   "outputs": [],
   "source": []
  },
  {
   "cell_type": "code",
   "execution_count": null,
   "id": "5e4f38c1",
   "metadata": {},
   "outputs": [],
   "source": []
  },
  {
   "cell_type": "code",
   "execution_count": 234,
   "id": "d23fea85",
   "metadata": {},
   "outputs": [],
   "source": [
    "ex_pos_3D=[]\n",
    "for item in result:\n",
    "    pos_2D=[]\n",
    "    for element in enumerate(item):\n",
    "        x=st3_x[element[0]]\n",
    "        y=st3_y[element[0]]\n",
    "        z=st3_z[element[0]]\n",
    "        px=st3_px[element[0]]\n",
    "        py=st3_py[element[0]]\n",
    "        pz=st3_pz[element[0]]\n",
    "        pos=[]\n",
    "        for i in range(len(x)):\n",
    "            pos.append(extrpl_h4(x[i], y[i], z[i], px[i], py[i], pz[i], element[1]))\n",
    "        pos_2D.append(pos)\n",
    "    ex_pos_3D.append(pos_2D)\n",
    "        \n",
    "        \n",
    "        "
   ]
  },
  {
   "cell_type": "code",
   "execution_count": 241,
   "id": "af75f212",
   "metadata": {},
   "outputs": [
    {
     "data": {
      "text/plain": [
       "1000"
      ]
     },
     "execution_count": 241,
     "metadata": {},
     "output_type": "execute_result"
    }
   ],
   "source": [
    "len(ID)"
   ]
  },
  {
   "cell_type": "code",
   "execution_count": null,
   "id": "760b7324",
   "metadata": {},
   "outputs": [],
   "source": []
  },
  {
   "cell_type": "code",
   "execution_count": null,
   "id": "92a67ba5",
   "metadata": {},
   "outputs": [],
   "source": []
  }
 ],
 "metadata": {
  "kernelspec": {
   "display_name": "Python 3 (ipykernel)",
   "language": "python",
   "name": "python3"
  },
  "language_info": {
   "codemirror_mode": {
    "name": "ipython",
    "version": 3
   },
   "file_extension": ".py",
   "mimetype": "text/x-python",
   "name": "python",
   "nbconvert_exporter": "python",
   "pygments_lexer": "ipython3",
   "version": "3.9.16"
  }
 },
 "nbformat": 4,
 "nbformat_minor": 5
}
